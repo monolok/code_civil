{
 "cells": [
  {
   "cell_type": "markdown",
   "metadata": {},
   "source": [
    "https://www.legifrance.gouv.fr/liste/code?etatTexte=VIGUEUR"
   ]
  },
  {
   "cell_type": "markdown",
   "metadata": {},
   "source": [
    "# Mariage & Divorce: split docs by articles"
   ]
  },
  {
   "cell_type": "code",
   "execution_count": 132,
   "metadata": {},
   "outputs": [],
   "source": [
    "from langchain_community.document_loaders import PyPDFLoader\n",
    "from langchain_text_splitters import CharacterTextSplitter\n",
    "from langchain_community.embeddings import HuggingFaceEmbeddings\n",
    "import numpy as np\n",
    "from langchain_pinecone import PineconeVectorStore\n",
    "from pinecone import Pinecone, PodSpec"
   ]
  },
  {
   "cell_type": "code",
   "execution_count": 153,
   "metadata": {},
   "outputs": [],
   "source": [
    "from dotenv import load_dotenv\n",
    "import os\n",
    "\n",
    "# Load the .env file\n",
    "load_dotenv()\n",
    "\n",
    "# Use the environment variables\n",
    "pinecone_api_key = os.getenv('PINECONE_API_KEY')"
   ]
  },
  {
   "cell_type": "code",
   "execution_count": 140,
   "metadata": {},
   "outputs": [],
   "source": [
    "loader = PyPDFLoader(\"/Users/antoinebertin/Documents/jedha/full_stack/Extra/RAG/code_civil_mariage_divorce.pdf\")\n",
    "text_splitter = CharacterTextSplitter(\n",
    "    separator='(?= Article \\d+)',\n",
    "    chunk_size=500,\n",
    "    chunk_overlap=30,\n",
    "    length_function=len,\n",
    "    is_separator_regex=True,\n",
    ")"
   ]
  },
  {
   "cell_type": "code",
   "execution_count": 141,
   "metadata": {},
   "outputs": [
    {
     "name": "stderr",
     "output_type": "stream",
     "text": [
      "Created a chunk of size 810, which is longer than the specified 500\n",
      "Created a chunk of size 760, which is longer than the specified 500\n",
      "Created a chunk of size 773, which is longer than the specified 500\n",
      "Created a chunk of size 745, which is longer than the specified 500\n",
      "Created a chunk of size 593, which is longer than the specified 500\n",
      "Created a chunk of size 777, which is longer than the specified 500\n",
      "Created a chunk of size 1311, which is longer than the specified 500\n",
      "Created a chunk of size 1182, which is longer than the specified 500\n",
      "Created a chunk of size 1217, which is longer than the specified 500\n",
      "Created a chunk of size 1331, which is longer than the specified 500\n",
      "Created a chunk of size 1346, which is longer than the specified 500\n",
      "Created a chunk of size 821, which is longer than the specified 500\n",
      "Created a chunk of size 555, which is longer than the specified 500\n",
      "Created a chunk of size 1134, which is longer than the specified 500\n",
      "Created a chunk of size 802, which is longer than the specified 500\n",
      "Created a chunk of size 575, which is longer than the specified 500\n",
      "Created a chunk of size 737, which is longer than the specified 500\n",
      "Created a chunk of size 788, which is longer than the specified 500\n",
      "Created a chunk of size 1428, which is longer than the specified 500\n",
      "Created a chunk of size 1350, which is longer than the specified 500\n",
      "Created a chunk of size 907, which is longer than the specified 500\n",
      "Created a chunk of size 1208, which is longer than the specified 500\n",
      "Created a chunk of size 954, which is longer than the specified 500\n",
      "Created a chunk of size 857, which is longer than the specified 500\n",
      "Created a chunk of size 585, which is longer than the specified 500\n",
      "Created a chunk of size 1202, which is longer than the specified 500\n",
      "Created a chunk of size 860, which is longer than the specified 500\n",
      "Created a chunk of size 877, which is longer than the specified 500\n",
      "Created a chunk of size 1030, which is longer than the specified 500\n",
      "Created a chunk of size 675, which is longer than the specified 500\n",
      "Created a chunk of size 577, which is longer than the specified 500\n",
      "Created a chunk of size 683, which is longer than the specified 500\n",
      "Created a chunk of size 655, which is longer than the specified 500\n",
      "Created a chunk of size 592, which is longer than the specified 500\n",
      "Created a chunk of size 784, which is longer than the specified 500\n",
      "Created a chunk of size 937, which is longer than the specified 500\n",
      "Created a chunk of size 1182, which is longer than the specified 500\n"
     ]
    }
   ],
   "source": [
    "docs_from_pdf = loader.load_and_split(text_splitter=text_splitter)"
   ]
  },
  {
   "cell_type": "markdown",
   "metadata": {},
   "source": [
    "# Embeddings & VDB"
   ]
  },
  {
   "cell_type": "code",
   "execution_count": 142,
   "metadata": {},
   "outputs": [],
   "source": [
    "embeddings = HuggingFaceEmbeddings()"
   ]
  },
  {
   "cell_type": "code",
   "execution_count": 157,
   "metadata": {},
   "outputs": [],
   "source": [
    "pc = Pinecone(api_key=pinecone_api_key)"
   ]
  },
  {
   "cell_type": "code",
   "execution_count": 137,
   "metadata": {},
   "outputs": [],
   "source": [
    "pc.create_index(\n",
    "  name=\"civil\",\n",
    "  dimension=768,\n",
    "  metric=\"cosine\",\n",
    "  spec=PodSpec(\n",
    "    environment=\"gcp-starter\"\n",
    "  )\n",
    ")"
   ]
  },
  {
   "cell_type": "code",
   "execution_count": 159,
   "metadata": {},
   "outputs": [],
   "source": [
    "# Initialize PineconeVectorStore\n",
    "vectorstore = PineconeVectorStore(\n",
    "    index_name=\"civil\",\n",
    "    embedding=embeddings,\n",
    "    pinecone_api_key=pinecone_api_key\n",
    ")"
   ]
  },
  {
   "cell_type": "markdown",
   "metadata": {},
   "source": [
    "# uspsert"
   ]
  },
  {
   "cell_type": "code",
   "execution_count": 149,
   "metadata": {},
   "outputs": [],
   "source": [
    "texts_to_index = [doc.page_content for doc in docs_from_pdf]"
   ]
  },
  {
   "cell_type": "code",
   "execution_count": 151,
   "metadata": {},
   "outputs": [
    {
     "data": {
      "text/plain": [
       "['0402fefd-a858-4725-bd4d-9e90685ee930',\n",
       " 'bb1b2e1d-8f0f-40a8-b23b-05ffe34620ca',\n",
       " 'd5c45e75-8a7c-438f-82a3-705f03cecdfc',\n",
       " 'a9b05b11-354a-4290-9c70-824b42f332c3',\n",
       " '08576411-f356-424c-b8ae-f5d6496e5c92',\n",
       " '0f9cb73a-3643-487b-8974-d84861cb89bf',\n",
       " 'e381ef5d-4f10-4aa3-bcb0-ebfbf2677100',\n",
       " '5fe4c515-eeab-4c0a-8ab8-746b547bd07d',\n",
       " '77e13e6b-4ddd-468a-9b71-a5755cdd2ecd',\n",
       " '50ee10e3-76fc-4c20-bf74-64c01daaef0a',\n",
       " '5a161ff4-fff7-46c8-8fd7-5f60be0c50f3',\n",
       " 'e5adcf96-aac1-41c6-86e1-77dc951ac471',\n",
       " '0ee2fd50-aa7a-4cb0-b9eb-e912307551e0',\n",
       " '0a4d8c28-fe20-4c7a-810e-a8dd0491c3e7',\n",
       " '7b67dfd0-6f9b-4083-8d95-895d754785a4',\n",
       " 'e1ab9131-ff52-4f48-a1fa-d73b93b2db1d',\n",
       " '455e375c-7ab4-4773-96b9-f4eeff60c531',\n",
       " '9bbac1b2-0d73-434f-b231-d3e3332a5e69',\n",
       " '2706ee4e-0a77-49de-8ee7-853906977f9e',\n",
       " '76d31d9e-04e1-4b3b-a5d2-ea2841c5cf16',\n",
       " '1dbaffe5-f099-41f5-b24f-49ad9723b8a3',\n",
       " '07b93168-b94e-44a4-8cc8-395e9a567066',\n",
       " '6dd3a523-c6b8-4ff0-ba2f-7d2916d0ad4c',\n",
       " '30ceb84f-0225-4442-bd53-0fe3038f077d',\n",
       " '5104d5dd-080a-47cf-b6e8-0ee9b9b2ff95',\n",
       " 'cc5d10aa-0d86-49db-97bf-46e4b36eb3d2',\n",
       " 'af3ee314-cb0b-496a-8fa8-8d9929c24a74',\n",
       " '8aeb9f4d-593f-4504-a04c-f3df857260d6',\n",
       " 'a24cc1e7-a1a1-4039-9492-429a8d6a0afd',\n",
       " '3ad85a6b-8bf0-4c2b-b21b-8f45ab84aa9b',\n",
       " '64eeb974-3aba-4f26-af5a-e39092a06e19',\n",
       " '1c8dc1b0-8a93-4fc6-8d99-7a9fb5b422a1',\n",
       " 'ab661cca-a86e-4085-bce2-f9ff84a42fe3',\n",
       " 'ddbb5be8-0b8f-41e5-a91d-6ac27fafbd3c',\n",
       " '72a9ac28-850c-4c61-b04b-2196782449de',\n",
       " 'ae873221-beb9-4940-9f4e-3893b6ff0f8e',\n",
       " '468adcad-2f7b-423c-a64b-03db7925bad1',\n",
       " 'b838ab70-cb56-449b-bbbe-839105d8d872',\n",
       " '86d7ba4a-b464-4e58-9922-322a56e544a9',\n",
       " 'f994201d-a64a-432e-b1e7-add8e6cfc9f6',\n",
       " '9026d731-48ca-4a2f-abde-57b6a9975b66',\n",
       " '39e74a6c-018c-448e-b718-f16cccda08b2',\n",
       " '68594a03-26c4-47a2-8497-f720bb582870',\n",
       " '71eec4bd-e102-403f-abc3-8c7f2f31ca06',\n",
       " '6e78e889-5910-42dc-89b9-7ea55da73489',\n",
       " 'd161b445-7509-46db-b9b4-ecae7b457316',\n",
       " '7be72e3d-e158-47c6-8624-b56bf31c64d7',\n",
       " '593e6a65-515c-4e50-ad6a-beea879e90cf',\n",
       " '1f646d70-690f-45f1-8818-30cc0a894227',\n",
       " '47707ae6-fd10-4b33-a421-eb6fbe8ac057',\n",
       " '8a4c7ce6-ba91-4c00-8cca-ab50d35bffcd',\n",
       " 'aceaa7e3-d242-48c4-9996-0db959938790',\n",
       " '08e9804b-399f-4c5c-beab-7534d8f21de5',\n",
       " 'a2f32f85-0327-4bda-a069-38146836300f',\n",
       " 'dbe8b2fc-9dc5-46e0-90b3-966065f474eb',\n",
       " 'a0557cca-6ad7-4973-bb83-1635b681e676',\n",
       " '43148b08-2411-4802-8037-c9f856471b3a',\n",
       " '616a0eaf-25b2-42ec-ac66-b7c54382b957',\n",
       " '20ebd1f6-efe0-4fa1-a6bf-7afb512f6603',\n",
       " '1a68305c-d290-499f-9d11-c9926741467b',\n",
       " 'e3a93ce6-929b-4f23-8b3b-27568e28a0cc',\n",
       " '183eee04-2e4b-4998-a618-0ce3848bdbf9',\n",
       " 'e67bb766-cc90-4cbb-8546-c82130adaedc',\n",
       " '7c3a5327-d659-41e5-94c4-a0bbdb6a31ad',\n",
       " 'e0ffb2ed-d6f7-4eef-a929-3491ce8858e5',\n",
       " 'e7f54a00-6544-438e-a0e7-ae739bf51fc1',\n",
       " '255a4380-2f88-452e-9830-7c92973cc719',\n",
       " '855760be-028e-4955-be09-34ce2c7bf682',\n",
       " 'b5d4ffbf-3437-4641-bbc1-10e0a3dc3e22',\n",
       " 'cf56d076-695d-4e37-9a03-9257e1c64bd3',\n",
       " '41d7decc-547d-4700-ba66-487cec152dbb',\n",
       " '3493e1ce-268e-4ee3-9202-68bd8b5c1253',\n",
       " 'b9086cb0-9cea-4151-85aa-cb25568bc0b9',\n",
       " '4a04e3be-572c-42a8-87fd-8e91cd54362b',\n",
       " '9b42ec3c-a22f-4c64-a003-fba2613500c8',\n",
       " 'acdb6b4f-cae5-43a6-875b-a66fac815567',\n",
       " '044b7cfb-c76c-429e-8931-17a9365d8105',\n",
       " '8211bf20-e22c-417d-8962-799615487ce2',\n",
       " 'f8643721-58ad-43bd-a978-2d7b2a719fea',\n",
       " '26e3c474-dd42-4f39-8ff2-d2928849a9bf',\n",
       " '8b1ae866-48c2-40af-a64c-c0fdb79bfccc',\n",
       " '61a8cb48-aebc-492f-af55-5ee8aaea35fb',\n",
       " '9eade558-5977-456d-8a18-143a5e731011',\n",
       " '4496e7fc-e47d-4616-aa16-0e72a9bc1f76',\n",
       " '55a8a754-83f4-4e74-a8ae-b52d030b8d9b',\n",
       " '5e0f10ef-e071-413d-aa7c-2eacffbc06f5',\n",
       " 'f404007e-122d-40e4-91c8-79ec3cc3116c',\n",
       " '614576e7-9594-4595-80ca-fc958e60182a',\n",
       " 'eadc7847-67c7-4fb1-8e3c-fd12ec689df8',\n",
       " 'd4bbf6a1-e6bc-4f7f-9bf7-9026a56d2de2',\n",
       " '3750c651-0ede-4f63-b2ba-2954f00c0c50',\n",
       " '34fe94b7-b227-401b-9cd7-9aa1fd459797',\n",
       " '0d2bce8e-7750-4ca5-95db-dd3beaaee5ac',\n",
       " '56ed3e96-bab2-4c21-b877-1334c01ca9cc',\n",
       " '35558d03-f934-4924-8377-7a4ed61e546c',\n",
       " '4877b998-4f28-4109-8cfd-d6d7724102b2',\n",
       " '0241598d-3b33-4b3d-9fd5-d6c70cfe4aec',\n",
       " 'bc3c3a14-4c44-48f8-96c7-079c03f582fb',\n",
       " '1f11c656-4ce2-460e-a1c6-e741f6ab5268',\n",
       " 'ed744d8c-f1b9-4be8-93e5-93aa134ffdb6',\n",
       " '7a16a2e6-a68b-4ccd-9fb1-f5d40ce24033',\n",
       " 'bd8ed988-e172-4ca5-8b76-31ea09adf756',\n",
       " '2a229a00-0ea1-425f-8617-80fb62ba57ed',\n",
       " '71984d43-8a6f-4eae-b003-5b0ee499f28d',\n",
       " '287aeeb2-5bf5-4fe2-b759-cbe6da340f35',\n",
       " '7f122fb5-64b8-414b-b58c-76069585b0b7',\n",
       " '62a5a61d-a008-4601-9088-bab5ad3fbb8e',\n",
       " '16e01fb1-e198-4d8a-afd3-abdfb969803d',\n",
       " '77740823-f142-4825-9d8c-3e457d58c765',\n",
       " '1419484e-1ff6-46bc-ab7a-4051904339ed',\n",
       " '09539356-5dae-476d-9560-2c18370756c3',\n",
       " '4e49a442-e2c4-4496-bc0d-0b8b6ebc55ea',\n",
       " 'c9360ef6-0eac-42c4-8317-a18ff87d68bb',\n",
       " 'fb3eaee4-01d3-48b0-a553-2950285fc5b0',\n",
       " '30f5cdd2-6786-435e-9042-94b353bfbc68',\n",
       " 'c1ba9c5a-e708-42ab-94e5-054514789b9d',\n",
       " '93f46e9f-efaa-4c78-8358-505cc8c9564c',\n",
       " '3dc499ca-e518-4087-96de-5a9fab1c834f',\n",
       " '0fdc7045-3196-4cb2-9a7a-9142bf45b9d4',\n",
       " '5bc3ef88-923b-42dd-a195-a9454a47efe5',\n",
       " 'd0824162-39fa-4f1f-9359-8c38f960bcc3',\n",
       " 'df426fb6-27bd-4340-9b49-30117a01d315',\n",
       " '9ff72782-a449-4863-b4f9-cdec0434d2b3',\n",
       " 'aabf3564-0922-4dd6-a694-4c2452703af3',\n",
       " '39cac441-e41d-4c1f-a8af-efa77f68a62a',\n",
       " '6f43523e-9386-44cf-93cb-0a53f4e84ae9',\n",
       " 'ff8d6800-3aab-4dc7-947f-a5288352b306',\n",
       " '3ee17dda-e964-4c97-aa47-ec9fa3630d80',\n",
       " '63f0ccaf-931c-4d13-a21d-853fdb42e02d',\n",
       " 'fd31b04e-e706-43a4-8dac-21a84fece2d4',\n",
       " '9df29873-9608-4af5-a6bf-f338429a1677',\n",
       " '61f27501-dd6c-441d-ae08-33c5d4715631']"
      ]
     },
     "execution_count": 151,
     "metadata": {},
     "output_type": "execute_result"
    }
   ],
   "source": [
    "# Upsert embeddings\n",
    "vectorstore.add_texts(\n",
    "    texts_to_index,  # your list of texts\n",
    "    batch_size=32,  # batch size for upsert\n",
    "    async_req=True  # whether to make the request asynchronously\n",
    ")"
   ]
  },
  {
   "cell_type": "markdown",
   "metadata": {},
   "source": [
    "# search VDB"
   ]
  },
  {
   "cell_type": "code",
   "execution_count": null,
   "metadata": {},
   "outputs": [],
   "source": []
  }
 ],
 "metadata": {
  "kernelspec": {
   "display_name": "base",
   "language": "python",
   "name": "python3"
  },
  "language_info": {
   "codemirror_mode": {
    "name": "ipython",
    "version": 3
   },
   "file_extension": ".py",
   "mimetype": "text/x-python",
   "name": "python",
   "nbconvert_exporter": "python",
   "pygments_lexer": "ipython3",
   "version": "3.11.7"
  }
 },
 "nbformat": 4,
 "nbformat_minor": 2
}
