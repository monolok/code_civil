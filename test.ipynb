{
 "cells": [
  {
   "cell_type": "markdown",
   "metadata": {},
   "source": [
    "https://www.legifrance.gouv.fr/liste/code?etatTexte=VIGUEUR"
   ]
  },
  {
   "cell_type": "code",
   "execution_count": 243,
   "metadata": {},
   "outputs": [],
   "source": [
    "from langchain_community.document_loaders import PyPDFLoader\n",
    "from langchain_text_splitters import CharacterTextSplitter\n",
    "from langchain_community.embeddings import HuggingFaceEmbeddings\n",
    "from pinecone import Pinecone, PodSpec\n",
    "from tqdm.auto import tqdm\n",
    "from uuid import uuid4\n",
    "from dotenv import load_dotenv\n",
    "import os"
   ]
  },
  {
   "cell_type": "markdown",
   "metadata": {},
   "source": [
    "# Mariage & Divorce: split docs by articles"
   ]
  },
  {
   "cell_type": "code",
   "execution_count": 281,
   "metadata": {},
   "outputs": [],
   "source": [
    "# Load the .env file\n",
    "load_dotenv()\n",
    "\n",
    "# Use the environment variables\n",
    "pinecone_api_key = os.getenv('PINECONE_API_KEY')\n",
    "bearer = os.getenv('Bearer')"
   ]
  },
  {
   "cell_type": "code",
   "execution_count": 228,
   "metadata": {},
   "outputs": [],
   "source": [
    "loader = PyPDFLoader(\"/Users/antoinebertin/Documents/jedha/full_stack/Extra/RAG/code_civil_mariage_divorce.pdf\")\n",
    "text_splitter = CharacterTextSplitter(\n",
    "    separator='(?= Article \\d+)',\n",
    "    chunk_size=500,\n",
    "    chunk_overlap=30,\n",
    "    length_function=len,\n",
    "    is_separator_regex=True,\n",
    ")"
   ]
  },
  {
   "cell_type": "code",
   "execution_count": 229,
   "metadata": {},
   "outputs": [
    {
     "name": "stderr",
     "output_type": "stream",
     "text": [
      "Created a chunk of size 810, which is longer than the specified 500\n",
      "Created a chunk of size 760, which is longer than the specified 500\n",
      "Created a chunk of size 773, which is longer than the specified 500\n",
      "Created a chunk of size 745, which is longer than the specified 500\n",
      "Created a chunk of size 593, which is longer than the specified 500\n",
      "Created a chunk of size 777, which is longer than the specified 500\n",
      "Created a chunk of size 1311, which is longer than the specified 500\n",
      "Created a chunk of size 1182, which is longer than the specified 500\n",
      "Created a chunk of size 1217, which is longer than the specified 500\n",
      "Created a chunk of size 1331, which is longer than the specified 500\n",
      "Created a chunk of size 1346, which is longer than the specified 500\n",
      "Created a chunk of size 821, which is longer than the specified 500\n",
      "Created a chunk of size 555, which is longer than the specified 500\n",
      "Created a chunk of size 1134, which is longer than the specified 500\n",
      "Created a chunk of size 802, which is longer than the specified 500\n",
      "Created a chunk of size 575, which is longer than the specified 500\n",
      "Created a chunk of size 737, which is longer than the specified 500\n",
      "Created a chunk of size 788, which is longer than the specified 500\n",
      "Created a chunk of size 1428, which is longer than the specified 500\n",
      "Created a chunk of size 1350, which is longer than the specified 500\n",
      "Created a chunk of size 907, which is longer than the specified 500\n",
      "Created a chunk of size 1208, which is longer than the specified 500\n",
      "Created a chunk of size 954, which is longer than the specified 500\n",
      "Created a chunk of size 857, which is longer than the specified 500\n",
      "Created a chunk of size 585, which is longer than the specified 500\n",
      "Created a chunk of size 1202, which is longer than the specified 500\n",
      "Created a chunk of size 860, which is longer than the specified 500\n",
      "Created a chunk of size 877, which is longer than the specified 500\n",
      "Created a chunk of size 1030, which is longer than the specified 500\n",
      "Created a chunk of size 675, which is longer than the specified 500\n",
      "Created a chunk of size 577, which is longer than the specified 500\n",
      "Created a chunk of size 683, which is longer than the specified 500\n",
      "Created a chunk of size 655, which is longer than the specified 500\n",
      "Created a chunk of size 592, which is longer than the specified 500\n",
      "Created a chunk of size 784, which is longer than the specified 500\n",
      "Created a chunk of size 937, which is longer than the specified 500\n",
      "Created a chunk of size 1182, which is longer than the specified 500\n"
     ]
    }
   ],
   "source": [
    "docs_from_pdf = loader.load_and_split(text_splitter=text_splitter)"
   ]
  },
  {
   "cell_type": "markdown",
   "metadata": {},
   "source": [
    "# Embeddings prep"
   ]
  },
  {
   "cell_type": "code",
   "execution_count": 230,
   "metadata": {},
   "outputs": [],
   "source": [
    "embeddings = HuggingFaceEmbeddings()"
   ]
  },
  {
   "cell_type": "code",
   "execution_count": 234,
   "metadata": {},
   "outputs": [
    {
     "data": {
      "text/plain": [
       "HuggingFaceEmbeddings(client=SentenceTransformer(\n",
       "  (0): Transformer({'max_seq_length': 384, 'do_lower_case': False}) with Transformer model: MPNetModel \n",
       "  (1): Pooling({'word_embedding_dimension': 768, 'pooling_mode_cls_token': False, 'pooling_mode_mean_tokens': True, 'pooling_mode_max_tokens': False, 'pooling_mode_mean_sqrt_len_tokens': False, 'pooling_mode_weightedmean_tokens': False, 'pooling_mode_lasttoken': False, 'include_prompt': True})\n",
       "  (2): Normalize()\n",
       "), model_name='sentence-transformers/all-mpnet-base-v2', cache_folder=None, model_kwargs={}, encode_kwargs={}, multi_process=False, show_progress=False)"
      ]
     },
     "execution_count": 234,
     "metadata": {},
     "output_type": "execute_result"
    }
   ],
   "source": [
    "embeddings"
   ]
  },
  {
   "cell_type": "code",
   "execution_count": 235,
   "metadata": {},
   "outputs": [],
   "source": [
    "texts_to_index = [doc.page_content for doc in docs_from_pdf]"
   ]
  },
  {
   "cell_type": "code",
   "execution_count": 237,
   "metadata": {},
   "outputs": [
    {
     "data": {
      "text/plain": [
       "\"Livre Ier : Des personnesTitre V : Du mariageChapitre Ier : Des qualités et conditions requises pour pouvoircontracter mariageArticle 143 Le mariage est contracté par deux personnes de sexe différent ou de même sexe. (?= Article \\\\d+) Article 144 Le mariage ne peut être contracté avant dix-huit ans révolus. (?= Article \\\\d+) Article 145 Néanmoins, il est loisible au procureur de la République du lieu de célébration du mariage d'accorder desdispenses d'âge pour des motifs graves.\""
      ]
     },
     "execution_count": 237,
     "metadata": {},
     "output_type": "execute_result"
    }
   ],
   "source": [
    "texts_to_index[0]"
   ]
  },
  {
   "cell_type": "markdown",
   "metadata": {},
   "source": [
    "# init pinecone index"
   ]
  },
  {
   "cell_type": "code",
   "execution_count": 239,
   "metadata": {},
   "outputs": [],
   "source": [
    "pc = Pinecone(api_key=pinecone_api_key)"
   ]
  },
  {
   "cell_type": "code",
   "execution_count": 241,
   "metadata": {},
   "outputs": [],
   "source": [
    "pc.create_index(\n",
    "  name=\"civil\",\n",
    "  dimension=768,\n",
    "  metric=\"cosine\",\n",
    "  spec=PodSpec(\n",
    "    environment=\"gcp-starter\"\n",
    "  )\n",
    ")"
   ]
  },
  {
   "cell_type": "code",
   "execution_count": 242,
   "metadata": {},
   "outputs": [],
   "source": [
    "index = pc.Index(\"civil\")"
   ]
  },
  {
   "cell_type": "markdown",
   "metadata": {},
   "source": [
    "# upsert"
   ]
  },
  {
   "cell_type": "code",
   "execution_count": 244,
   "metadata": {},
   "outputs": [
    {
     "data": {
      "application/vnd.jupyter.widget-view+json": {
       "model_id": "320e0e94cb10428296ffaa90650a1d44",
       "version_major": 2,
       "version_minor": 0
      },
      "text/plain": [
       "  0%|          | 0/3 [00:00<?, ?it/s]"
      ]
     },
     "metadata": {},
     "output_type": "display_data"
    },
    {
     "ename": "AttributeError",
     "evalue": "'Index' object has no attribute 'describe_index'",
     "output_type": "error",
     "traceback": [
      "\u001b[0;31m---------------------------------------------------------------------------\u001b[0m",
      "\u001b[0;31mAttributeError\u001b[0m                            Traceback (most recent call last)",
      "Cell \u001b[0;32mIn[244], line 28\u001b[0m\n\u001b[1;32m     25\u001b[0m     index\u001b[38;5;241m.\u001b[39mupsert(vectors\u001b[38;5;241m=\u001b[39mto_upsert)\n\u001b[1;32m     27\u001b[0m \u001b[38;5;66;03m# Optionally, verify the index state or stats after the upsert operations\u001b[39;00m\n\u001b[0;32m---> 28\u001b[0m \u001b[38;5;28mprint\u001b[39m(index\u001b[38;5;241m.\u001b[39mdescribe_index(\u001b[38;5;124m'\u001b[39m\u001b[38;5;124mcivil\u001b[39m\u001b[38;5;124m'\u001b[39m))\n",
      "\u001b[0;31mAttributeError\u001b[0m: 'Index' object has no attribute 'describe_index'"
     ]
    }
   ],
   "source": [
    "batch_size = 64  # You can adjust the batch size based on your preference\n",
    "\n",
    "for i in tqdm(range(0, len(texts_to_index), batch_size)):\n",
    "    # Define the end of the current batch\n",
    "    i_end = min(i + batch_size, len(texts_to_index))\n",
    "    # Extract the batch of texts\n",
    "    batch_texts = texts_to_index[i:i_end]\n",
    "\n",
    "    # Generate embeddings for the batch of texts\n",
    "    # Assuming `embed_documents` function exists and takes a list of texts, returning a list of embeddings\n",
    "    batch_embeddings = embeddings.embed_documents(batch_texts)\n",
    "\n",
    "    # Prepare metadata, including the original text for each embedding\n",
    "    # This assumes you want to store the original text alongside the embedding for retrieval\n",
    "    batch_meta = [{'text': text} for text in batch_texts]\n",
    "\n",
    "    # Generate unique IDs for each embedding in the batch\n",
    "    ids = [str(uuid4()) for _ in range(i, i_end)]\n",
    "\n",
    "    # Prepare the data for upsert to Pinecone\n",
    "    # Each entry in `to_upsert` is a tuple consisting of an ID, an embedding, and metadata\n",
    "    to_upsert = [(id, emb, meta) for id, emb, meta in zip(ids, batch_embeddings, batch_meta)]\n",
    "\n",
    "    # Upsert the batch of embeddings and metadata to Pinecone\n",
    "    index.upsert(vectors=to_upsert)"
   ]
  },
  {
   "cell_type": "markdown",
   "metadata": {},
   "source": [
    "# Query"
   ]
  },
  {
   "cell_type": "code",
   "execution_count": 266,
   "metadata": {},
   "outputs": [],
   "source": [
    "query_text = \"mineur\"\n",
    "query_embedding = embeddings.embed_documents([query_text])[0]"
   ]
  },
  {
   "cell_type": "code",
   "execution_count": 267,
   "metadata": {},
   "outputs": [
    {
     "data": {
      "text/plain": [
       "768"
      ]
     },
     "execution_count": 267,
     "metadata": {},
     "output_type": "execute_result"
    }
   ],
   "source": [
    "len(query_embedding)"
   ]
  },
  {
   "cell_type": "code",
   "execution_count": 268,
   "metadata": {},
   "outputs": [],
   "source": [
    "query_results = index.query(\n",
    "    vector=query_embedding,\n",
    "    top_k=2,\n",
    "    include_values=True,\n",
    "    include_metadata=True\n",
    ")"
   ]
  },
  {
   "cell_type": "code",
   "execution_count": 269,
   "metadata": {},
   "outputs": [
    {
     "name": "stdout",
     "output_type": "stream",
     "text": [
      "ID: 06ef1385-0bb9-40d6-a3d6-6bf0041ac41d, Score: 0.277391106\n",
      "Text: Article 148 Les mineurs ne peuvent contracter mariage sans le consentement de leurs père et mère ; en cas dedissentiment entre le père et la mère, ce partage emporte consentement.\n",
      "\n",
      "ID: 1e127601-3edc-49b8-abfb-ee5ff84a1144, Score: 0.233539179\n",
      "Text: S'il n'y a ni père, ni mère, ni aïeuls, ni aïeules, ou s'ils se trouvent tous dans l'impossibilité de manifesterleur volonté, les mineurs de dix-huit ans ne peuvent contracter mariage sans le consentement du conseil defamille.\n",
      "\n"
     ]
    }
   ],
   "source": [
    "for result in query_results['matches']:\n",
    "    print(f\"ID: {result['id']}, Score: {result['score']}\")\n",
    "    if 'metadata' in result:\n",
    "        print(f\"Text: {result['metadata']['text']}\\n\")\n"
   ]
  },
  {
   "cell_type": "markdown",
   "metadata": {},
   "source": [
    "# test mistral instruct"
   ]
  },
  {
   "cell_type": "code",
   "execution_count": 282,
   "metadata": {},
   "outputs": [],
   "source": [
    "import requests\n",
    "\n",
    "API_URL = \"https://api-inference.huggingface.co/models/mistralai/Mistral-7B-Instruct-v0.1\"\n",
    "headers = {\"Authorization\": bearer}\n",
    "def query(payload):\n",
    "\tresponse = requests.post(API_URL, headers=headers, json=payload)\n",
    "\treturn response.json()\n",
    "\t\n",
    "output = query({\n",
    "\t\"inputs\": \"<s>[INST] What is Paris? [/INST]\",\n",
    "})"
   ]
  },
  {
   "cell_type": "code",
   "execution_count": 279,
   "metadata": {},
   "outputs": [
    {
     "data": {
      "text/plain": [
       "[{'generated_text': \"<s>[INST] What is Paris? [/INST] Paris is the capital and most populous city of France. It is located in the north-central region of the country along the Yonne River, where it meets the Seine River. The city is known for its rich history, art, culture, and cuisine, and has been one of the world's leading centers of commerce, fashion, and gastronomy for hundreds of years. Paris is also known as the City of Love, due to its reputation as a romantic destination and the\"}]"
      ]
     },
     "execution_count": 279,
     "metadata": {},
     "output_type": "execute_result"
    }
   ],
   "source": [
    "output"
   ]
  }
 ],
 "metadata": {
  "kernelspec": {
   "display_name": "base",
   "language": "python",
   "name": "python3"
  },
  "language_info": {
   "codemirror_mode": {
    "name": "ipython",
    "version": 3
   },
   "file_extension": ".py",
   "mimetype": "text/x-python",
   "name": "python",
   "nbconvert_exporter": "python",
   "pygments_lexer": "ipython3",
   "version": "3.11.7"
  }
 },
 "nbformat": 4,
 "nbformat_minor": 2
}
